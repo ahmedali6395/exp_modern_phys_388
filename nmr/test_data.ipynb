{
 "cells": [
  {
   "cell_type": "code",
   "execution_count": null,
   "metadata": {
    "vscode": {
     "languageId": "plaintext"
    }
   },
   "outputs": [],
   "source": [
    "from pathlib import Path\n",
    "\n",
    "import pandas as pd\n",
    "import numpy as np\n",
    "import matplotlib.pyplot as plt\n",
    "\n",
    "fpath = Path('./nmr/nmr_data/carr-purcell-sequence-2.csv')\n",
    "\n",
    "df = pd.read_csv(\n",
    "    fpath,\n",
    "    usecols = [3,4,9,10],\n",
    "    header = None,\n",
    "    names = ['t1', 'v1', 't2', 'v2'],\n",
    ")\n",
    "\n",
    "dat = df.to_numpy()\n",
    "\n",
    "# dat = dat[:-200]\n",
    "\n",
    "\n",
    "plt.plot(\n",
    "    dat[:,0],\n",
    "    dat[:,1],\n",
    "    label = 't1',\n",
    ")\n",
    "\n",
    "plt.plot(\n",
    "    dat[:,2],\n",
    "    dat[:,3],\n",
    "    label = 't2',\n",
    ")\n",
    "plt.xlabel('Time (s)')\n",
    "plt.ylabel('Voltage (V)')\n",
    "plt.legend()"
   ]
  }
 ],
 "metadata": {
  "language_info": {
   "name": "python"
  }
 },
 "nbformat": 4,
 "nbformat_minor": 2
}
